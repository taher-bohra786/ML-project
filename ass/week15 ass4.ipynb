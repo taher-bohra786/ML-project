{
 "cells": [
  {
   "cell_type": "markdown",
   "metadata": {},
   "source": [
    "1. **Lasso Regression** (Least Absolute Shrinkage and Selection Operator) is a type of linear regression that applies L1 regularization, which penalizes the absolute values of coefficients. This leads to some coefficients becoming exactly zero, making it useful for feature selection.  \n",
    "\n",
    "2. The main advantage of **Lasso Regression in feature selection** is that it can shrink some feature coefficients to exactly zero, effectively removing irrelevant or less important features from the model. This simplifies the model and improves interpretability.  \n",
    "\n",
    "3. **Interpreting Lasso Regression coefficients** involves analyzing which features have nonzero values, as these are the ones contributing to the prediction. A zero coefficient means the feature has been entirely removed, while nonzero values indicate their relative importance in predicting the target variable.  \n",
    "\n",
    "4. The primary **tuning parameter** in Lasso Regression is **lambda (α)**, which controls the strength of the L1 penalty. A higher lambda forces more coefficients to zero, increasing sparsity but risking underfitting, while a lower lambda keeps more features but may lead to overfitting.  \n",
    "\n",
    "5. **Lasso can be used for non-linear regression** by transforming features using polynomial expansions or kernel methods. This allows the linear Lasso model to capture complex, non-linear relationships in the data.  \n",
    "\n",
    "6. The key **difference between Ridge and Lasso Regression** is that Ridge (L2 regularization) shrinks coefficients but does not eliminate them, while Lasso (L1 regularization) can set some coefficients to zero, performing automatic feature selection.  \n",
    "\n",
    "7. **Lasso handles multicollinearity** by selecting only one of the highly correlated features and setting the coefficients of the others to zero. This helps in reducing redundancy and improving model interpretability.  \n",
    "\n",
    "8. The **optimal lambda value** in Lasso Regression is typically chosen through **cross-validation** techniques, such as **grid search** or using `LassoCV` in `sklearn`, which automatically selects the best regularization strength based on model performance."
   ]
  }
 ],
 "metadata": {
  "language_info": {
   "name": "python"
  }
 },
 "nbformat": 4,
 "nbformat_minor": 2
}
